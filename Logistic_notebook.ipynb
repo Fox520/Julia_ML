{
 "cells": [
  {
   "cell_type": "code",
   "execution_count": 1,
   "metadata": {},
   "outputs": [],
   "source": [
    "using CSV\n",
    "using Statistics\n",
    "using DataFrames\n",
    "using StatsBase  # For standardization"
   ]
  },
  {
   "cell_type": "code",
   "execution_count": 2,
   "metadata": {
    "collapsed": true
   },
   "outputs": [
    {
     "data": {
      "text/plain": [
       "395×33 Array{Any,2}:\n",
       " \"GP\"  \"F\"  18  \"U\"  \"GT3\"  \"A\"  4  4  …  4  3  4  1  1  3   6   5   6   6\n",
       " \"GP\"  \"F\"  17  \"U\"  \"GT3\"  \"T\"  1  1     5  3  3  1  1  3   4   5   5   6\n",
       " \"GP\"  \"F\"  15  \"U\"  \"LE3\"  \"T\"  1  1     4  3  2  2  3  3  10   7   8  10\n",
       " \"GP\"  \"F\"  15  \"U\"  \"GT3\"  \"T\"  4  2     3  2  2  1  1  5   2  15  14  15\n",
       " \"GP\"  \"F\"  16  \"U\"  \"GT3\"  \"T\"  3  3     4  3  2  1  2  5   4   6  10  10\n",
       " \"GP\"  \"M\"  16  \"U\"  \"LE3\"  \"T\"  4  3  …  5  4  2  1  2  5  10  15  15  15\n",
       " \"GP\"  \"M\"  16  \"U\"  \"LE3\"  \"T\"  2  2     4  4  4  1  1  3   0  12  12  11\n",
       " \"GP\"  \"F\"  17  \"U\"  \"GT3\"  \"A\"  4  4     4  1  4  1  1  1   6   6   5   6\n",
       " \"GP\"  \"M\"  15  \"U\"  \"LE3\"  \"A\"  3  2     4  2  2  1  1  1   0  16  18  19\n",
       " \"GP\"  \"M\"  15  \"U\"  \"GT3\"  \"T\"  3  4     5  5  1  1  1  5   0  14  15  15\n",
       " \"GP\"  \"F\"  15  \"U\"  \"GT3\"  \"T\"  4  4  …  3  3  3  1  2  2   0  10   8   9\n",
       " \"GP\"  \"F\"  15  \"U\"  \"GT3\"  \"T\"  2  1     5  2  2  1  1  4   4  10  12  12\n",
       " \"GP\"  \"M\"  15  \"U\"  \"LE3\"  \"T\"  4  4     4  3  3  1  3  5   2  14  14  14\n",
       " ⋮                          ⋮          ⋱        ⋮                ⋮        \n",
       " \"MS\"  \"M\"  19  \"R\"  \"GT3\"  \"T\"  1  1     4  3  2  1  3  5   0   6   5   0\n",
       " \"MS\"  \"M\"  18  \"R\"  \"GT3\"  \"T\"  4  2     5  4  3  4  3  3  14   6   5   5\n",
       " \"MS\"  \"F\"  18  \"R\"  \"GT3\"  \"T\"  2  2  …  5  3  3  1  3  4   2  10   9  10\n",
       " \"MS\"  \"F\"  18  \"R\"  \"GT3\"  \"T\"  4  4     4  4  3  2  2  5   7   6   5   6\n",
       " \"MS\"  \"F\"  19  \"R\"  \"GT3\"  \"T\"  2  3     5  4  2  1  2  5   0   7   5   0\n",
       " \"MS\"  \"F\"  18  \"U\"  \"LE3\"  \"T\"  3  1     4  3  4  1  1  1   0   7   9   8\n",
       " \"MS\"  \"F\"  18  \"U\"  \"GT3\"  \"T\"  1  1     1  1  1  1  1  5   0   6   5   0\n",
       " \"MS\"  \"M\"  20  \"U\"  \"LE3\"  \"A\"  2  2  …  5  5  4  4  5  4  11   9   9   9\n",
       " \"MS\"  \"M\"  17  \"U\"  \"LE3\"  \"T\"  3  1     2  4  5  3  4  2   3  14  16  16\n",
       " \"MS\"  \"M\"  21  \"R\"  \"GT3\"  \"T\"  1  1     5  5  3  3  3  3   3  10   8   7\n",
       " \"MS\"  \"M\"  18  \"R\"  \"LE3\"  \"T\"  3  2     4  4  1  3  4  5   0  11  12  10\n",
       " \"MS\"  \"M\"  19  \"U\"  \"LE3\"  \"T\"  1  1     3  2  3  3  3  5   5   8   9   9"
      ]
     },
     "execution_count": 2,
     "metadata": {},
     "output_type": "execute_result"
    }
   ],
   "source": [
    "file_path = \"student-mat.csv\"\n",
    "df = CSV.read(file_path)\n",
    "m = convert(Matrix, df)"
   ]
  },
  {
   "cell_type": "code",
   "execution_count": 3,
   "metadata": {
    "collapsed": true
   },
   "outputs": [
    {
     "data": {
      "text/plain": [
       "395-element Array{String,1}:\n",
       " #undef\n",
       " #undef\n",
       " #undef\n",
       " #undef\n",
       " #undef\n",
       " #undef\n",
       " #undef\n",
       " #undef\n",
       " #undef\n",
       " #undef\n",
       " #undef\n",
       " #undef\n",
       " #undef\n",
       "   ⋮   \n",
       " #undef\n",
       " #undef\n",
       " #undef\n",
       " #undef\n",
       " #undef\n",
       " #undef\n",
       " #undef\n",
       " #undef\n",
       " #undef\n",
       " #undef\n",
       " #undef\n",
       " #undef"
      ]
     },
     "execution_count": 3,
     "metadata": {},
     "output_type": "execute_result"
    }
   ],
   "source": [
    "school_vector = Array{String,1}(undef, size(m)[1])\n",
    "sex_vector = Array{String,1}(undef, size(m)[1])\n",
    "address_vector = Array{String,1}(undef, size(m)[1])\n",
    "famsize_vector = Array{String,1}(undef, size(m)[1])\n",
    "pstatus_vector = Array{String,1}(undef, size(m)[1])\n",
    "mjob_vector = Array{String,1}(undef, size(m)[1])\n",
    "fjob_vector = Array{String,1}(undef, size(m)[1])\n",
    "reason_vector = Array{String,1}(undef, size(m)[1])\n",
    "guardian_vector = Array{String,1}(undef, size(m)[1])\n",
    "schoolsup_vector = Array{String,1}(undef, size(m)[1])\n",
    "famsup_vector = Array{String,1}(undef, size(m)[1])\n",
    "paid_vector = Array{String,1}(undef, size(m)[1])\n",
    "activities_vector = Array{String,1}(undef, size(m)[1])\n",
    "nursery_vector = Array{String,1}(undef, size(m)[1])\n",
    "higher_vector = Array{String,1}(undef, size(m)[1])\n",
    "internet_vector = Array{String,1}(undef, size(m)[1])\n",
    "romantic_vector = Array{String,1}(undef, size(m)[1])"
   ]
  },
  {
   "cell_type": "code",
   "execution_count": 4,
   "metadata": {},
   "outputs": [],
   "source": [
    "# Please make refactor me\n",
    "for i in 1:size(m)[1]\n",
    "    for j in 1:size(m)[2]\n",
    "        if j == 1\n",
    "            school_vector[i] = m[i,j]\n",
    "\n",
    "        elseif j == 2\n",
    "            sex_vector[i] = m[i,j]\n",
    "        elseif j == 4\n",
    "            address_vector[i] = m[i,j]\n",
    "        elseif j == 5\n",
    "            famsize_vector[i] = m[i,j]\n",
    "        elseif j == 6\n",
    "            pstatus_vector[i] = m[i,j]\n",
    "        elseif j == 9\n",
    "            mjob_vector[i] = m[i,j]\n",
    "        elseif j == 10\n",
    "            fjob_vector[i] = m[i,j]\n",
    "        elseif j == 11\n",
    "            reason_vector[i] = m[i,j]\n",
    "        elseif j == 12\n",
    "            guardian_vector[i] = m[i,j]\n",
    "        elseif j == 16\n",
    "            schoolsup_vector[i] = m[i,j]\n",
    "        elseif j == 17\n",
    "            famsup_vector[i] = m[i,j]\n",
    "        elseif j == 18\n",
    "            paid_vector[i] = m[i,j]\n",
    "        elseif j == 19\n",
    "            activities_vector[i] = m[i,j]\n",
    "        elseif j == 20\n",
    "            nursery_vector[i] = m[i,j]\n",
    "        elseif j == 21\n",
    "            higher_vector[i] = m[i,j]\n",
    "        elseif j == 22\n",
    "            internet_vector[i] = m[i,j]\n",
    "        elseif j == 23\n",
    "            romantic_vector[i] = m[i,j]\n",
    "        end\n",
    "        # println()\n",
    "    end\n",
    "    # mv = Array{String}(undef, length(m))\n",
    "    # println(m[i,1])\n",
    "end"
   ]
  },
  {
   "cell_type": "code",
   "execution_count": 5,
   "metadata": {
    "collapsed": true
   },
   "outputs": [
    {
     "data": {
      "text/plain": [
       "395-element Array{Int64,1}:\n",
       " 1\n",
       " 1\n",
       " 1\n",
       " 2\n",
       " 1\n",
       " 1\n",
       " 1\n",
       " 1\n",
       " 1\n",
       " 1\n",
       " 1\n",
       " 1\n",
       " 1\n",
       " ⋮\n",
       " 1\n",
       " 1\n",
       " 1\n",
       " 2\n",
       " 1\n",
       " 1\n",
       " 1\n",
       " 1\n",
       " 1\n",
       " 1\n",
       " 1\n",
       " 1"
      ]
     },
     "execution_count": 5,
     "metadata": {},
     "output_type": "execute_result"
    }
   ],
   "source": [
    "function map_to_int(arr)\n",
    "    # Dynamically map the strings to numbers\n",
    "    unique_list = String[]\n",
    "    for v in arr\n",
    "        if v in unique_list\n",
    "            continue\n",
    "        else\n",
    "            push!(unique_list, v)\n",
    "        end\n",
    "    end\n",
    "    # println(unique_list)\n",
    "    cleaned_list = Array{Int64, 1}(undef, length(arr))\n",
    "    count = 1\n",
    "    for i in unique_list\n",
    "        for j in 1:length(arr)\n",
    "            if arr[j] == i\n",
    "                cleaned_list[j] = count\n",
    "            end\n",
    "        end\n",
    "        count += 1\n",
    "    end\n",
    "    return cleaned_list\n",
    "\n",
    "end\n",
    "\n",
    "cleaned_school = map_to_int(school_vector)\n",
    "cleaned_sex = map_to_int(sex_vector)\n",
    "cleaned_address = map_to_int(address_vector)\n",
    "cleaned_famsize = map_to_int(famsize_vector)\n",
    "\n",
    "cleaned_pstatus = map_to_int(pstatus_vector)\n",
    "cleaned_mjob = map_to_int(mjob_vector)\n",
    "cleaned_fjob = map_to_int(fjob_vector)\n",
    "cleaned_reason = map_to_int(reason_vector)\n",
    "\n",
    "cleaned_guardian = map_to_int(guardian_vector)\n",
    "cleaned_schoolsup = map_to_int(schoolsup_vector)\n",
    "cleaned_famsup = map_to_int(famsup_vector)\n",
    "cleaned_paid = map_to_int(paid_vector)\n",
    "\n",
    "cleaned_activities = map_to_int(activities_vector)\n",
    "cleaned_nursery = map_to_int(nursery_vector)\n",
    "cleaned_higher = map_to_int(higher_vector)\n",
    "cleaned_internet = map_to_int(internet_vector)\n",
    "\n",
    "cleaned_romantic = map_to_int(romantic_vector)"
   ]
  },
  {
   "cell_type": "code",
   "execution_count": 6,
   "metadata": {},
   "outputs": [],
   "source": [
    "# 2. Extract outcome and features\n",
    "# 2.1 Create outcome vector\n",
    "y = Array{Int64, 1}(undef, size(m)[1])\n",
    "for i in 1:size(m)[1] # rows\n",
    "    temp_total = 0\n",
    "    for j in 31:size(m)[2] # From G1 to G3\n",
    "        temp_total += m[i,j]\n",
    "    end\n",
    "    # Find average of grade and set value in outcome 1 if average is > 10 else 0\n",
    "    if (temp_total/3) >= 10\n",
    "        global y[i] = 1\n",
    "    else\n",
    "        global y[i] = 0\n",
    "    end\n",
    "end"
   ]
  },
  {
   "cell_type": "code",
   "execution_count": 23,
   "metadata": {
    "collapsed": true
   },
   "outputs": [
    {
     "name": "stdout",
     "output_type": "stream",
     "text": [
      "[0, 0, 0, 1, 0, 1, 1, 0, 1, 1, 0, 1, 1, 1, 1, 1, 1, 0, 0, 0, 1, 1, 1, 1, 0, 0, 1, 1, 1, 1, 1, 1, 1, 1, 1, 0, 1, 1, 1, 1, 0, 1, 1, 0, 0, 0, 1, 1, 1, 0, 1, 1, 1, 0, 1, 0, 1, 1, 0, 1, 1, 0, 0, 0, 1, 1, 1, 0, 0, 1, 1, 1, 0, 1, 1, 0, 1, 1, 0, 0, 1, 1, 0, 1, 0, 0, 0, 1, 1, 0, 0, 1, 0, 1, 1, 0, 1, 0, 1, 0, 0, 1, 1, 0, 1, 1, 0, 1, 1, 1, 1, 0, 1, 1, 0, 1, 1, 1, 0, 1, 1, 1, 1, 1, 0, 1, 0, 0, 0, 1, 0, 0, 1, 1, 0, 0, 0, 0, 1, 1, 0, 0, 1, 1, 0, 1, 0, 1, 0, 0, 0, 1, 1, 0, 1, 0, 1, 0, 1, 1, 0, 0, 0, 1, 0, 1, 1, 1, 0, 1, 0, 1, 1, 0, 1, 0, 1, 0, 0, 1, 0, 1, 1, 0, 1, 1, 1, 1, 0, 0, 1, 0, 0, 0, 1, 1, 1, 0, 1, 0, 1, 0, 0, 0, 1, 0, 0, 1, 0, 0, 0, 1, 1, 0, 0, 1, 0, 0, 0, 0, 0, 0, 1, 1, 1, 0, 1, 1, 0, 1, 1, 1, 0, 1, 0, 1, 1, 1, 1, 0, 1, 1, 0, 1, 0, 1, 1, 0, 0, 1, 0, 0, 0, 0, 1, 0, 1, 1, 1, 0, 1, 0, 1, 0, 0, 1, 0, 1, 0, 0, 0, 1, 1, 1, 1, 1, 0, 0, 0, 1, 0, 1, 1, 0, 1, 1, 1, 1, 1, 1, 1, 1, 1, 1, 1, 1, 0, 0, 1, 1, 1, 1, 1, 1, 1, 1, 1, 0, 1, 1, 0, 1, 1, 1, 1, 1, 0, 0, 1, 1, 1, 0, 1, 1, 1, 1, 1, 1, 0, 1, 0, 1, 0, 0, 0, 1, 1, 0, 1, 0, 1, 0, 1, 0, 1, 1, 1, 0, 1, 1, 0, 1, 0, 0, 1, 0, 1, 1, 1, 1, 1, 1, 1, 1, 1, 1, 1, 0, 1, 1, 0, 1, 1, 0, 1, 0, 1, 0, 1, 1, 1, 0, 1, 0, 0, 0, 0, 0, 0, 0, 0, 1, 0, 1, 0]\n"
     ]
    }
   ],
   "source": [
    "println(y)"
   ]
  },
  {
   "cell_type": "code",
   "execution_count": 7,
   "metadata": {},
   "outputs": [],
   "source": [
    "# 2.2 Update the changes to the matrix to the numerical equivalents\n",
    "# TODO: Create vectors for the features then concatenate them. Below not functioning as expected\n",
    "\n",
    "for i in 1:size(m)[1]\n",
    "    for j in 1:size(m)[2]\n",
    "        if j == 1\n",
    "            m[i,j] = cleaned_school[i]\n",
    "        elseif j == 2\n",
    "            m[i,j] = cleaned_sex[i]\n",
    "        elseif j == 4\n",
    "            m[i,j] = cleaned_address[i]\n",
    "        elseif j == 5\n",
    "            m[i,j] = cleaned_famsize[i]\n",
    "        elseif j == 6\n",
    "            m[i,j] = cleaned_pstatus[i]\n",
    "        elseif j == 9\n",
    "            m[i,j] = cleaned_mjob[i]\n",
    "        elseif j == 10\n",
    "            m[i,j] = cleaned_fjob[i]\n",
    "        elseif j == 11\n",
    "            m[i,j] = cleaned_reason[i]\n",
    "        elseif j == 12\n",
    "            m[i,j] = cleaned_guardian[i]\n",
    "        elseif j == 16\n",
    "            m[i,j] = cleaned_schoolsup[i]\n",
    "        elseif j == 17\n",
    "            m[i,j] = cleaned_famsup[i]\n",
    "        elseif j == 18\n",
    "            m[i,j] = cleaned_paid[i]\n",
    "        elseif j == 19\n",
    "            m[i,j] = cleaned_activities[i]\n",
    "        elseif j == 20\n",
    "            m[i,j] = cleaned_nursery[i]\n",
    "        elseif j == 21\n",
    "            m[i,j] = cleaned_higher[i]\n",
    "        elseif j == 22\n",
    "            m[i,j] = cleaned_internet[i]\n",
    "        elseif j == 23\n",
    "            m[i,j] = cleaned_romantic[i]\n",
    "        end\n",
    "    end\n",
    "end\n",
    "\n",
    "# Remove G1, G2 and G3 from matrix by writing all except unwanted. Note: deleteat! won't work with 2 dims\n",
    "x = Matrix{Float64}(undef, size(m)[1], size(m)[2]-3)\n",
    "\n",
    "for i in 1:size(m)[1]\n",
    "    for j in 1:size(m)[2]-3\n",
    "        # Merge the outcome value as the last index\n",
    "        if j == size(m)[2]-3\n",
    "            x[i,j] = y[i]\n",
    "            continue\n",
    "        end\n",
    "        x[i,j] = m[i,j]\n",
    "    end\n",
    "end"
   ]
  },
  {
   "cell_type": "code",
   "execution_count": 8,
   "metadata": {
    "collapsed": true
   },
   "outputs": [
    {
     "data": {
      "text/plain": [
       "395×30 Array{Float64,2}:\n",
       " -0.341606   -0.341606   4.93775  …  -0.341606   0.279495  -0.652156\n",
       " -0.35633    -0.35633    4.98862     -0.35633    0.311789  -0.690389\n",
       " -0.42453    -0.42453    4.97858      0.347343   0.347343  -0.810467\n",
       " -0.497143   -0.497143   4.8567      -0.497143   1.03253   -0.497143\n",
       " -0.461313   -0.461313   4.86153     -0.106457   0.958111  -0.816169\n",
       " -0.564228   -0.211586   4.72541  …  -0.211586   0.846342  -0.564228\n",
       " -0.453874   -0.0955524  4.92095     -0.453874   0.262769  -0.453874\n",
       " -0.361375   -0.361375   4.89499     -0.361375  -0.361375  -0.689897\n",
       " -0.436536   -0.0513572  4.95597     -0.436536  -0.436536  -0.436536\n",
       " -0.528424   -0.159756   4.63293     -0.528424   0.946248  -0.528424\n",
       " -0.518776   -0.518776   4.66899  …  -0.148222  -0.148222  -0.889331\n",
       " -0.501897   -0.501897   4.76802     -0.501897   0.627371  -0.501897\n",
       " -0.556453   -0.177053   4.75515      0.202347   0.961147  -0.556453\n",
       "  ⋮                               ⋱                                 \n",
       " -0.100242   -0.100242   5.01211      0.200485   0.801938  -0.701696\n",
       " -0.202751   -0.202751   4.91939      0.117382   0.117382  -0.843019\n",
       " -0.105652   -0.42261    4.96566  …   0.211305   0.528262  -0.739567\n",
       " -0.282326   -0.596022   4.73681     -0.282326   0.658762  -0.909718\n",
       " -0.159692   -0.459114   4.93049     -0.159692   0.738575  -0.758537\n",
       " -0.0941727  -0.408082   4.92837     -0.408082  -0.408082  -0.721991\n",
       "  0.0105598  -0.306233   5.07924     -0.306233   0.960938  -0.623026\n",
       " -0.246162   -0.246162   4.86644  …   0.605938   0.321905  -0.81423 \n",
       " -0.156619   -0.156619   4.87757      0.514606  -0.156619  -0.492232\n",
       " -0.163362   -0.163362   5.00977      0.108908   0.108908  -0.707902\n",
       " -0.190659   -0.190659   4.89359      0.444872   0.762637  -0.508425\n",
       " -0.119084   -0.119084   4.94197      0.178626   0.774044  -0.714502"
      ]
     },
     "execution_count": 8,
     "metadata": {},
     "output_type": "execute_result"
    }
   ],
   "source": [
    "# Standardize x\n",
    "m_fit = fit(ZScoreTransform, x, dims=2)\n",
    "x = StatsBase.transform(m_fit, x)"
   ]
  },
  {
   "cell_type": "code",
   "execution_count": 388,
   "metadata": {
    "collapsed": true
   },
   "outputs": [
    {
     "data": {
      "text/plain": [
       "80×1 Array{Int64,2}:\n",
       " 1\n",
       " 0\n",
       " 0\n",
       " 1\n",
       " 1\n",
       " 1\n",
       " 0\n",
       " 1\n",
       " 1\n",
       " 1\n",
       " 1\n",
       " 1\n",
       " 1\n",
       " ⋮\n",
       " 0\n",
       " 0\n",
       " 0\n",
       " 0\n",
       " 0\n",
       " 0\n",
       " 0\n",
       " 0\n",
       " 1\n",
       " 0\n",
       " 1\n",
       " 0"
      ]
     },
     "execution_count": 388,
     "metadata": {},
     "output_type": "execute_result"
    }
   ],
   "source": [
    "# Split into testing and training\n",
    "TEST_PERCENT = 0.8\n",
    "# Calculate number of rows to use as test sample\n",
    "testing_row_length = trunc(Int64, size(x)[1] * TEST_PERCENT)\n",
    "training_x = x[1:testing_row_length-1, :]\n",
    "testing_x = x[testing_row_length: size(x)[1], :]\n",
    "\n",
    "training_y = y[1:testing_row_length-1, :]\n",
    "testing_y = y[testing_row_length: size(y)[1], :]\n"
   ]
  },
  {
   "cell_type": "code",
   "execution_count": 389,
   "metadata": {
    "collapsed": true
   },
   "outputs": [
    {
     "data": {
      "text/plain": [
       "80×31 Array{Float64,2}:\n",
       " -0.427373   -0.427373  5.06742  -0.122107  …   0.18316   -0.427373  1.0\n",
       " -0.390441   -0.390441  4.99131  -0.390441     -0.390441  -0.707014  1.0\n",
       " -0.461053   -0.461053  4.88297  -0.461053      0.796365  -0.775408  1.0\n",
       " -0.558056   -0.558056  4.79928  -0.223222      0.781278  -0.558056  1.0\n",
       " -0.519343   -0.519343  4.77796  -0.519343      0.72708   -0.519343  1.0\n",
       " -0.462957   -0.462957  4.82798  -0.462957  …   0.859777  -0.462957  1.0\n",
       " -0.349871   -0.349871  5.06748  -0.349871      0.327299  -0.688456  1.0\n",
       " -0.472159   -0.472159  5.05556  -0.126677      0.218805  -0.472159  1.0\n",
       " -0.492232   -0.492232  4.87757  -0.492232      0.850219  -0.492232  1.0\n",
       " -0.437288   -0.437288  4.94472  -0.437288     -0.100913  -0.437288  1.0\n",
       " -0.458534   -0.138627  4.9799   -0.458534  …   0.181281  -0.458534  1.0\n",
       " -0.560999   -0.231     4.71899  -0.560999      0.758999  -0.560999  1.0\n",
       " -0.554784   -0.228441  4.66671  -0.228441      0.424247  -0.554784  1.0\n",
       "  ⋮                                         ⋱                        ⋮  \n",
       " -0.100242   -0.100242  5.01211  -0.100242      0.801938  -0.701696  1.0\n",
       " -0.202751   -0.202751  4.91939  -0.202751      0.117382  -0.843019  1.0\n",
       " -0.105652   -0.42261   4.96566  -0.105652  …   0.528262  -0.739567  1.0\n",
       " -0.282326   -0.596022  4.73681  -0.282326      0.658762  -0.909718  1.0\n",
       " -0.159692   -0.459114  4.93049  -0.159692      0.738575  -0.758537  1.0\n",
       " -0.0941727  -0.408082  4.92837  -0.408082     -0.408082  -0.721991  1.0\n",
       "  0.0105598  -0.306233  5.07924  -0.306233      0.960938  -0.623026  1.0\n",
       " -0.246162   -0.246162  4.86644  -0.530196  …   0.321905  -0.81423   1.0\n",
       " -0.156619   -0.156619  4.87757  -0.492232     -0.156619  -0.492232  1.0\n",
       " -0.163362   -0.163362  5.00977  -0.163362      0.108908  -0.707902  1.0\n",
       " -0.190659   -0.190659  4.89359  -0.190659      0.762637  -0.508425  1.0\n",
       " -0.119084   -0.119084  4.94197  -0.416793      0.774044  -0.714502  1.0"
      ]
     },
     "execution_count": 389,
     "metadata": {},
     "output_type": "execute_result"
    }
   ],
   "source": [
    "# Concatenate a vector of 1 to feature matrix (training_x) to represent bias\n",
    "training_x = hcat(training_x, ones(Int64, size(training_x)[1]))\n",
    "testing_x = hcat(testing_x, ones(Int64, size(testing_x)[1]))"
   ]
  },
  {
   "cell_type": "code",
   "execution_count": 407,
   "metadata": {},
   "outputs": [
    {
     "data": {
      "text/plain": [
       "hypothesis (generic function with 1 method)"
      ]
     },
     "execution_count": 407,
     "metadata": {},
     "output_type": "execute_result"
    }
   ],
   "source": [
    "# hypothesis becomes h(X) = X × Θ (a matrix multiplication).\n",
    "# hθ(x) = g((θT x))\n",
    "function hypothesis(v_theta, X)\n",
    "    z = transpose(v_theta) * X\n",
    "    return 1/(1+exp(-z))\n",
    "end\n",
    "# t = zeros(size(training_x)[2])\n",
    "# hypothesis(t,training_x[1, :])"
   ]
  },
  {
   "cell_type": "code",
   "execution_count": 304,
   "metadata": {},
   "outputs": [
    {
     "data": {
      "text/plain": [
       "sum_and_square_theta (generic function with 2 methods)"
      ]
     },
     "execution_count": 304,
     "metadata": {},
     "output_type": "execute_result"
    }
   ],
   "source": [
    "function sum_and_square_theta(arr)\n",
    "    # Exclude first element of theta\n",
    "#     return sum(arr[2:size(arr)[1]]) ^ 2\n",
    "    a = sum(arr) - arr[1]\n",
    "    return a^2\n",
    "\n",
    "end"
   ]
  },
  {
   "cell_type": "code",
   "execution_count": 423,
   "metadata": {},
   "outputs": [
    {
     "data": {
      "text/plain": [
       "cost_function (generic function with 2 methods)"
      ]
     },
     "execution_count": 423,
     "metadata": {},
     "output_type": "execute_result"
    }
   ],
   "source": [
    "function cost_function(X, Y, λ, theta)\n",
    "    m = size(X)[1]\n",
    "#     nfeatures = size(X)[1] - 1\n",
    "#     theta = zeros(size(X)[2])\n",
    "    cost = 0\n",
    "    gradient = 0\n",
    "    for i in 1:m\n",
    "        x = X[i,:]\n",
    "        y = Y[i]\n",
    "        # cross entropy\n",
    "        cost += (1/m)*(-y*log(hypothesis(theta, x)) - ((1-y) * log(1-hypothesis(theta, x))))\n",
    "        cost += (λ/2m) * sum_and_square_theta(theta)\n",
    "        gradient = ((1/m)*x) * (hypothesis(theta, x) - y) + (λ/m) * theta\n",
    "#         println(\"Hypothesis: \",hypothesis(theta, x), \", Actual: \",y)\n",
    "        # old\n",
    "#         first_part = y * log(hypothesis(theta,x)) - (1-y) * log(1-hypothesis(theta, x))\n",
    "#         second_part = (λ/2m) * sum_and_square_theta(theta)\n",
    "#         cost += (1/m)*(first_part + second_part)\n",
    "        # Update parameters for next iteration\n",
    "        \n",
    "#         grad = ((1/m)*x) * (hypothesis(theta, x) - y) + (λ/m) * theta\n",
    "#         theta = theta - α * grad\n",
    "    end\n",
    "    \n",
    "    return cost, gradient\n",
    "\n",
    "    #\n",
    "end\n"
   ]
  },
  {
   "cell_type": "code",
   "execution_count": 424,
   "metadata": {},
   "outputs": [
    {
     "data": {
      "text/plain": [
       "gradient_descent (generic function with 1 method)"
      ]
     },
     "execution_count": 424,
     "metadata": {},
     "output_type": "execute_result"
    }
   ],
   "source": [
    "function gradient_descent(X, Y, theta, α, num_iterations, λ) # α -> learning rate\n",
    "    tcost = 0\n",
    "    m = size(X)[1]\n",
    "    for i in 1:num_iterations\n",
    "        cost, grad = cost_function(X, Y, λ, theta)\n",
    "        theta = theta - (α*grad)\n",
    "        tcost += cost\n",
    "    end\n",
    "    return theta, (tcost/num_iterations)\n",
    "end"
   ]
  },
  {
   "cell_type": "code",
   "execution_count": 425,
   "metadata": {},
   "outputs": [
    {
     "name": "stdout",
     "output_type": "stream",
     "text": [
      "Average cost:0.7031020483559332\n",
      "Predicted: 0.7721622057749936, Actual: 1\n",
      "Predicted: 0.7616625851512883, Actual: 0\n",
      "Predicted: 0.7601616374718211, Actual: 0\n",
      "Predicted: 0.7572470394565417, Actual: 1\n",
      "Predicted: 0.750476061782137, Actual: 1\n",
      "Predicted: 0.7596770921857244, Actual: 1\n",
      "Predicted: 0.7677913319327275, Actual: 0\n",
      "Predicted: 0.7633587890731406, Actual: 1\n",
      "Predicted: 0.7606733346206329, Actual: 1\n",
      "Predicted: 0.768426336648389, Actual: 1\n"
     ]
    }
   ],
   "source": [
    "predicate_theta, cost = gradient_descent(training_x, training_y, zeros(size(training_x)[2]), 0.2, 200, 0.2)\n",
    "println(\"Average cost:\", cost)\n",
    "for i in 1: 10\n",
    "    pred = hypothesis(predicate_theta, testing_x[i, :])\n",
    "    println(\"Predicted: \",pred, \", Actual: \",testing_y[i])\n",
    "end\n"
   ]
  }
 ],
 "metadata": {
  "kernelspec": {
   "display_name": "Julia 1.0.5",
   "language": "julia",
   "name": "julia-1.0"
  },
  "language_info": {
   "file_extension": ".jl",
   "mimetype": "application/julia",
   "name": "julia",
   "version": "1.0.5"
  }
 },
 "nbformat": 4,
 "nbformat_minor": 4
}
