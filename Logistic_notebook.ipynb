{
 "cells": [
  {
   "cell_type": "code",
   "execution_count": 1,
   "metadata": {},
   "outputs": [
    {
     "name": "stderr",
     "output_type": "stream",
     "text": [
      "┌ Info: Recompiling stale cache file /home/paper/.julia/compiled/v1.0/CSV/HHBkp.ji for CSV [336ed68f-0bac-5ca0-87d4-7b16caf5d00b]\n",
      "└ @ Base loading.jl:1190\n"
     ]
    }
   ],
   "source": [
    "using CSV\n",
    "using Statistics\n",
    "using DataFrames\n",
    "using StatsBase  # For standardization"
   ]
  },
  {
   "cell_type": "code",
   "execution_count": 2,
   "metadata": {
    "collapsed": true
   },
   "outputs": [
    {
     "data": {
      "text/plain": [
       "395×33 Array{Any,2}:\n",
       " \"GP\"  \"F\"  18  \"U\"  \"GT3\"  \"A\"  4  4  …  4  3  4  1  1  3   6   5   6   6\n",
       " \"GP\"  \"F\"  17  \"U\"  \"GT3\"  \"T\"  1  1     5  3  3  1  1  3   4   5   5   6\n",
       " \"GP\"  \"F\"  15  \"U\"  \"LE3\"  \"T\"  1  1     4  3  2  2  3  3  10   7   8  10\n",
       " \"GP\"  \"F\"  15  \"U\"  \"GT3\"  \"T\"  4  2     3  2  2  1  1  5   2  15  14  15\n",
       " \"GP\"  \"F\"  16  \"U\"  \"GT3\"  \"T\"  3  3     4  3  2  1  2  5   4   6  10  10\n",
       " \"GP\"  \"M\"  16  \"U\"  \"LE3\"  \"T\"  4  3  …  5  4  2  1  2  5  10  15  15  15\n",
       " \"GP\"  \"M\"  16  \"U\"  \"LE3\"  \"T\"  2  2     4  4  4  1  1  3   0  12  12  11\n",
       " \"GP\"  \"F\"  17  \"U\"  \"GT3\"  \"A\"  4  4     4  1  4  1  1  1   6   6   5   6\n",
       " \"GP\"  \"M\"  15  \"U\"  \"LE3\"  \"A\"  3  2     4  2  2  1  1  1   0  16  18  19\n",
       " \"GP\"  \"M\"  15  \"U\"  \"GT3\"  \"T\"  3  4     5  5  1  1  1  5   0  14  15  15\n",
       " \"GP\"  \"F\"  15  \"U\"  \"GT3\"  \"T\"  4  4  …  3  3  3  1  2  2   0  10   8   9\n",
       " \"GP\"  \"F\"  15  \"U\"  \"GT3\"  \"T\"  2  1     5  2  2  1  1  4   4  10  12  12\n",
       " \"GP\"  \"M\"  15  \"U\"  \"LE3\"  \"T\"  4  4     4  3  3  1  3  5   2  14  14  14\n",
       " ⋮                          ⋮          ⋱        ⋮                ⋮        \n",
       " \"MS\"  \"M\"  19  \"R\"  \"GT3\"  \"T\"  1  1     4  3  2  1  3  5   0   6   5   0\n",
       " \"MS\"  \"M\"  18  \"R\"  \"GT3\"  \"T\"  4  2     5  4  3  4  3  3  14   6   5   5\n",
       " \"MS\"  \"F\"  18  \"R\"  \"GT3\"  \"T\"  2  2  …  5  3  3  1  3  4   2  10   9  10\n",
       " \"MS\"  \"F\"  18  \"R\"  \"GT3\"  \"T\"  4  4     4  4  3  2  2  5   7   6   5   6\n",
       " \"MS\"  \"F\"  19  \"R\"  \"GT3\"  \"T\"  2  3     5  4  2  1  2  5   0   7   5   0\n",
       " \"MS\"  \"F\"  18  \"U\"  \"LE3\"  \"T\"  3  1     4  3  4  1  1  1   0   7   9   8\n",
       " \"MS\"  \"F\"  18  \"U\"  \"GT3\"  \"T\"  1  1     1  1  1  1  1  5   0   6   5   0\n",
       " \"MS\"  \"M\"  20  \"U\"  \"LE3\"  \"A\"  2  2  …  5  5  4  4  5  4  11   9   9   9\n",
       " \"MS\"  \"M\"  17  \"U\"  \"LE3\"  \"T\"  3  1     2  4  5  3  4  2   3  14  16  16\n",
       " \"MS\"  \"M\"  21  \"R\"  \"GT3\"  \"T\"  1  1     5  5  3  3  3  3   3  10   8   7\n",
       " \"MS\"  \"M\"  18  \"R\"  \"LE3\"  \"T\"  3  2     4  4  1  3  4  5   0  11  12  10\n",
       " \"MS\"  \"M\"  19  \"U\"  \"LE3\"  \"T\"  1  1     3  2  3  3  3  5   5   8   9   9"
      ]
     },
     "execution_count": 2,
     "metadata": {},
     "output_type": "execute_result"
    }
   ],
   "source": [
    "file_path = \"student-mat.csv\"\n",
    "df = CSV.read(file_path)\n",
    "m = convert(Matrix, df)"
   ]
  },
  {
   "cell_type": "code",
   "execution_count": 3,
   "metadata": {
    "collapsed": true
   },
   "outputs": [
    {
     "data": {
      "text/plain": [
       "395-element Array{String,1}:\n",
       " #undef\n",
       " #undef\n",
       " #undef\n",
       " #undef\n",
       " #undef\n",
       " #undef\n",
       " #undef\n",
       " #undef\n",
       " #undef\n",
       " #undef\n",
       " #undef\n",
       " #undef\n",
       " #undef\n",
       "   ⋮   \n",
       " #undef\n",
       " #undef\n",
       " #undef\n",
       " #undef\n",
       " #undef\n",
       " #undef\n",
       " #undef\n",
       " #undef\n",
       " #undef\n",
       " #undef\n",
       " #undef\n",
       " #undef"
      ]
     },
     "execution_count": 3,
     "metadata": {},
     "output_type": "execute_result"
    }
   ],
   "source": [
    "school_vector = Array{String,1}(undef, size(m)[1])\n",
    "sex_vector = Array{String,1}(undef, size(m)[1])\n",
    "address_vector = Array{String,1}(undef, size(m)[1])\n",
    "famsize_vector = Array{String,1}(undef, size(m)[1])\n",
    "pstatus_vector = Array{String,1}(undef, size(m)[1])\n",
    "mjob_vector = Array{String,1}(undef, size(m)[1])\n",
    "fjob_vector = Array{String,1}(undef, size(m)[1])\n",
    "reason_vector = Array{String,1}(undef, size(m)[1])\n",
    "guardian_vector = Array{String,1}(undef, size(m)[1])\n",
    "schoolsup_vector = Array{String,1}(undef, size(m)[1])\n",
    "famsup_vector = Array{String,1}(undef, size(m)[1])\n",
    "paid_vector = Array{String,1}(undef, size(m)[1])\n",
    "activities_vector = Array{String,1}(undef, size(m)[1])\n",
    "nursery_vector = Array{String,1}(undef, size(m)[1])\n",
    "higher_vector = Array{String,1}(undef, size(m)[1])\n",
    "internet_vector = Array{String,1}(undef, size(m)[1])\n",
    "romantic_vector = Array{String,1}(undef, size(m)[1])"
   ]
  },
  {
   "cell_type": "code",
   "execution_count": 4,
   "metadata": {},
   "outputs": [],
   "source": [
    "# Please make refactor me\n",
    "for i in 1:size(m)[1]\n",
    "    for j in 1:size(m)[2]\n",
    "        if j == 1\n",
    "            school_vector[i] = m[i,j]\n",
    "\n",
    "        elseif j == 2\n",
    "            sex_vector[i] = m[i,j]\n",
    "        elseif j == 4\n",
    "            address_vector[i] = m[i,j]\n",
    "        elseif j == 5\n",
    "            famsize_vector[i] = m[i,j]\n",
    "        elseif j == 6\n",
    "            pstatus_vector[i] = m[i,j]\n",
    "        elseif j == 9\n",
    "            mjob_vector[i] = m[i,j]\n",
    "        elseif j == 10\n",
    "            fjob_vector[i] = m[i,j]\n",
    "        elseif j == 11\n",
    "            reason_vector[i] = m[i,j]\n",
    "        elseif j == 12\n",
    "            guardian_vector[i] = m[i,j]\n",
    "        elseif j == 16\n",
    "            schoolsup_vector[i] = m[i,j]\n",
    "        elseif j == 17\n",
    "            famsup_vector[i] = m[i,j]\n",
    "        elseif j == 18\n",
    "            paid_vector[i] = m[i,j]\n",
    "        elseif j == 19\n",
    "            activities_vector[i] = m[i,j]\n",
    "        elseif j == 20\n",
    "            nursery_vector[i] = m[i,j]\n",
    "        elseif j == 21\n",
    "            higher_vector[i] = m[i,j]\n",
    "        elseif j == 22\n",
    "            internet_vector[i] = m[i,j]\n",
    "        elseif j == 23\n",
    "            romantic_vector[i] = m[i,j]\n",
    "        end\n",
    "        # println()\n",
    "    end\n",
    "    # mv = Array{String}(undef, length(m))\n",
    "    # println(m[i,1])\n",
    "end"
   ]
  },
  {
   "cell_type": "code",
   "execution_count": 5,
   "metadata": {
    "collapsed": true
   },
   "outputs": [
    {
     "data": {
      "text/plain": [
       "395-element Array{Int64,1}:\n",
       " 1\n",
       " 1\n",
       " 1\n",
       " 2\n",
       " 1\n",
       " 1\n",
       " 1\n",
       " 1\n",
       " 1\n",
       " 1\n",
       " 1\n",
       " 1\n",
       " 1\n",
       " ⋮\n",
       " 1\n",
       " 1\n",
       " 1\n",
       " 2\n",
       " 1\n",
       " 1\n",
       " 1\n",
       " 1\n",
       " 1\n",
       " 1\n",
       " 1\n",
       " 1"
      ]
     },
     "execution_count": 5,
     "metadata": {},
     "output_type": "execute_result"
    }
   ],
   "source": [
    "function map_to_int(arr)\n",
    "    # Dynamically map the strings to numbers\n",
    "    unique_list = String[]\n",
    "    for v in arr\n",
    "        if v in unique_list\n",
    "            continue\n",
    "        else\n",
    "            push!(unique_list, v)\n",
    "        end\n",
    "    end\n",
    "    # println(unique_list)\n",
    "    cleaned_list = Array{Int64, 1}(undef, length(arr))\n",
    "    count = 1\n",
    "    for i in unique_list\n",
    "        for j in 1:length(arr)\n",
    "            if arr[j] == i\n",
    "                cleaned_list[j] = count\n",
    "            end\n",
    "        end\n",
    "        count += 1\n",
    "    end\n",
    "    return cleaned_list\n",
    "\n",
    "end\n",
    "\n",
    "cleaned_school = map_to_int(school_vector)\n",
    "cleaned_sex = map_to_int(sex_vector)\n",
    "cleaned_address = map_to_int(address_vector)\n",
    "cleaned_famsize = map_to_int(famsize_vector)\n",
    "\n",
    "cleaned_pstatus = map_to_int(pstatus_vector)\n",
    "cleaned_mjob = map_to_int(mjob_vector)\n",
    "cleaned_fjob = map_to_int(fjob_vector)\n",
    "cleaned_reason = map_to_int(reason_vector)\n",
    "\n",
    "cleaned_guardian = map_to_int(guardian_vector)\n",
    "cleaned_schoolsup = map_to_int(schoolsup_vector)\n",
    "cleaned_famsup = map_to_int(famsup_vector)\n",
    "cleaned_paid = map_to_int(paid_vector)\n",
    "\n",
    "cleaned_activities = map_to_int(activities_vector)\n",
    "cleaned_nursery = map_to_int(nursery_vector)\n",
    "cleaned_higher = map_to_int(higher_vector)\n",
    "cleaned_internet = map_to_int(internet_vector)\n",
    "\n",
    "cleaned_romantic = map_to_int(romantic_vector)"
   ]
  },
  {
   "cell_type": "code",
   "execution_count": 6,
   "metadata": {},
   "outputs": [],
   "source": [
    "# 2. Extract outcome and features\n",
    "# 2.1 Create outcome vector\n",
    "outcome_vector = Array{Float64, 1}(undef, size(m)[1])\n",
    "for i in 1:size(m)[1] # rows\n",
    "    temp_total = 0\n",
    "    for j in 31:size(m)[2] # From G1 to G3\n",
    "        temp_total += m[i,j]\n",
    "    end\n",
    "    # Find average of grade and set value in outcome 1 if average is > 10 else 0\n",
    "    if (temp_total/3) > 10\n",
    "        global outcome_vector[i] = 1 #1.0 conversions to integer aren't working as expected\n",
    "    else\n",
    "        global outcome_vector[i] = 0 #0.0\n",
    "    end\n",
    "end"
   ]
  },
  {
   "cell_type": "code",
   "execution_count": 7,
   "metadata": {},
   "outputs": [],
   "source": [
    "# 2.2 Update the changes to the matrix to the numerical equivalents\n",
    "# TODO: Create vectors for the features then concatenate them. Below not functioning as expected\n",
    "\n",
    "for i in 1:size(m)[1]\n",
    "    for j in 1:size(m)[2]\n",
    "        if j == 1\n",
    "            m[i,j] = cleaned_school[i]\n",
    "        elseif j == 2\n",
    "            m[i,j] = cleaned_sex[i]\n",
    "        elseif j == 4\n",
    "            m[i,j] = cleaned_address[i]\n",
    "        elseif j == 5\n",
    "            m[i,j] = cleaned_famsize[i]\n",
    "        elseif j == 6\n",
    "            m[i,j] = cleaned_pstatus[i]\n",
    "        elseif j == 9\n",
    "            m[i,j] = cleaned_mjob[i]\n",
    "        elseif j == 10\n",
    "            m[i,j] = cleaned_fjob[i]\n",
    "        elseif j == 11\n",
    "            m[i,j] = cleaned_reason[i]\n",
    "        elseif j == 12\n",
    "            m[i,j] = cleaned_guardian[i]\n",
    "        elseif j == 16\n",
    "            m[i,j] = cleaned_schoolsup[i]\n",
    "        elseif j == 17\n",
    "            m[i,j] = cleaned_famsup[i]\n",
    "        elseif j == 18\n",
    "            m[i,j] = cleaned_paid[i]\n",
    "        elseif j == 19\n",
    "            m[i,j] = cleaned_activities[i]\n",
    "        elseif j == 20\n",
    "            m[i,j] = cleaned_nursery[i]\n",
    "        elseif j == 21\n",
    "            m[i,j] = cleaned_higher[i]\n",
    "        elseif j == 22\n",
    "            m[i,j] = cleaned_internet[i]\n",
    "        elseif j == 23\n",
    "            m[i,j] = cleaned_romantic[i]\n",
    "        end\n",
    "    end\n",
    "end\n",
    "\n",
    "# Remove G1, G2 and G3 from matrix by writing all except unwanted\n",
    "new_matrix = Matrix{Int64}(undef, size(m)[1], size(m)[2]-2)\n",
    "for i in 1:size(m)[1]\n",
    "    for j in 1:size(m)[2]-2\n",
    "        # Merge the outcome value as the last index\n",
    "        if j == size(m)[2]-2\n",
    "            new_matrix[i,j] = outcome_vector[i]\n",
    "            continue\n",
    "        end\n",
    "        new_matrix[i,j] = m[i,j]\n",
    "    end\n",
    "end"
   ]
  },
  {
   "cell_type": "code",
   "execution_count": 26,
   "metadata": {
    "collapsed": true
   },
   "outputs": [
    {
     "data": {
      "text/plain": [
       "ZScoreTransform{Float64}(395, 2, [2.22581, 2.12903, 2.35484, 2.29032, 2.35484, 2.83871, 2.19355, 2.22581, 2.06452, 2.35484  …  2.32258, 3.03226, 2.45161, 2.22581, 1.90323, 3.12903, 2.48387, 2.6129, 2.51613, 2.48387], [3.24253, 2.96358, 2.91603, 2.57156, 2.78745, 3.08865, 2.77392, 3.07365, 2.58116, 2.70245  …  3.10255, 3.21956, 3.315, 3.15922, 3.12362, 3.75714, 2.93111, 3.61181, 3.12912, 3.33538])"
      ]
     },
     "execution_count": 26,
     "metadata": {},
     "output_type": "execute_result"
    }
   ],
   "source": [
    "# Standadize\n",
    "# To avoid InexactError: Int64(Int64, -0.3780405275933236) convert matrix to float type\n",
    "new_matrix = convert(Array{Float64, 2}, new_matrix)\n",
    "m_fit = fit(ZScoreTransform, new_matrix, dims=2)"
   ]
  },
  {
   "cell_type": "code",
   "execution_count": 32,
   "metadata": {
    "collapsed": true
   },
   "outputs": [
    {
     "data": {
      "text/plain": [
       "395×31 Array{Float64,2}:\n",
       " -0.378041   -0.378041   4.86478  …   0.238762   1.16397   -0.686442\n",
       " -0.380969   -0.380969   5.01791      0.293891   0.631321  -0.718399\n",
       " -0.464618   -0.464618   4.33643      0.221247   2.62177   -0.80755 \n",
       " -0.501767   -0.501767   4.94241      1.05371   -0.112898  -0.501767\n",
       " -0.486049   -0.486049   4.89521      0.948953   0.590202  -0.8448  \n",
       " -0.595311   -0.271545   4.26117  …   0.699751   2.31858   -0.595311\n",
       " -0.430275   -0.0697744  4.97724      0.290727  -0.790776  -0.430275\n",
       " -0.398812   -0.398812   4.80673     -0.398812   1.22792   -0.724158\n",
       " -0.412418   -0.0249951  5.01151     -0.412418  -0.799842  -0.412418\n",
       " -0.501338   -0.131303   4.67915      0.978802  -0.871372  -0.501338\n",
       " -0.492016   -0.492016   4.71615  …  -0.120004  -0.864028  -0.864028\n",
       " -0.527607   -0.527607   4.79754      0.613496   0.613496  -0.527607\n",
       " -0.559864   -0.17418    4.83972      0.982873  -0.17418   -0.559864\n",
       "  ⋮                               ⋱                         ⋮       \n",
       " -0.078293   -0.078293   5.07926      0.831863  -0.685064  -0.685064\n",
       " -0.271163   -0.271163   4.06745      0.0        2.98279   -0.813489\n",
       " -0.103973   -0.426288   5.05308  …   0.540659  -0.103973  -0.748604\n",
       " -0.32062    -0.631222   4.649        0.611183   1.23238   -0.941823\n",
       " -0.136233   -0.437892   4.99197      0.768743  -0.739551  -0.739551\n",
       " -0.0714755  -0.38801    4.99307     -0.38801   -0.704544  -0.704544\n",
       "  0.0309814  -0.28916    5.15325      0.991406  -0.609302  -0.609302\n",
       " -0.300503   -0.300503   4.49037  …   0.231816   2.09493   -0.832822\n",
       " -0.165081   -0.165081   4.95244     -0.165081   0.176087  -0.506249\n",
       " -0.169694   -0.169694   5.09083      0.107175   0.107175  -0.723433\n",
       " -0.164944   -0.164944   4.94831      0.793792  -0.804101  -0.484522\n",
       " -0.145072   -0.145072   4.9518       0.754376   0.754376  -0.744705"
      ]
     },
     "execution_count": 32,
     "metadata": {},
     "output_type": "execute_result"
    }
   ],
   "source": [
    "matrix_standardized = StatsBase.transform(m_fit, new_matrix)"
   ]
  },
  {
   "cell_type": "code",
   "execution_count": 69,
   "metadata": {},
   "outputs": [
    {
     "data": {
      "text/plain": [
       "69-element Array{Float64,1}:\n",
       " -0.573744071199346  \n",
       " -0.592161554885141  \n",
       " -0.5692491972168857 \n",
       " -0.5353268055488335 \n",
       " -0.5088969562135591 \n",
       " -0.4947331875799788 \n",
       " -0.42624330126402094\n",
       " -0.40893445644687754\n",
       " -0.37690664904865445\n",
       " -0.4998114493003428 \n",
       " -0.529080310504833  \n",
       " -0.42175733043879404\n",
       " -0.4904923744809672 \n",
       "  ⋮                  \n",
       " -0.07829302959315637\n",
       " -0.2711630722733202 \n",
       " -0.10397280094574901\n",
       " -0.3206204666007241 \n",
       " -0.13623301501157026\n",
       " -0.07147547306006936\n",
       "  0.03098144342708279\n",
       " -0.3005028123024585 \n",
       " -0.16508121241937607\n",
       " -0.16969427104043044\n",
       " -0.16494377889420564\n",
       " -0.1450724022108528 "
      ]
     },
     "execution_count": 69,
     "metadata": {},
     "output_type": "execute_result"
    }
   ],
   "source": [
    "# Split into testing and training\n",
    "TEST_PERCENT = 0.8\n",
    "# Calculate number of rows to use as test sample\n",
    "testing_row_length = trunc(Int64, size(matrix_standardized)[1] * TEST_PERCENT)\n",
    "testing_matrix = matrix_standardized[1:testing_row_length]\n",
    "training_matrix = matrix_standardized[testing_row_length: size(matrix_standardized)[1]]"
   ]
  },
  {
   "cell_type": "code",
   "execution_count": 44,
   "metadata": {},
   "outputs": [
    {
     "name": "stdout",
     "output_type": "stream",
     "text": [
      "[1, 2, 3]\n"
     ]
    }
   ],
   "source": []
  }
 ],
 "metadata": {
  "kernelspec": {
   "display_name": "Julia 1.0.4",
   "language": "julia",
   "name": "julia-1.0"
  },
  "language_info": {
   "file_extension": ".jl",
   "mimetype": "application/julia",
   "name": "julia",
   "version": "1.0.4"
  }
 },
 "nbformat": 4,
 "nbformat_minor": 4
}
